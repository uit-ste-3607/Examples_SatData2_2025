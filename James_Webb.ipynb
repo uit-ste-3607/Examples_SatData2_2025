{
 "cells": [
  {
   "cell_type": "code",
   "execution_count": null,
   "metadata": {},
   "outputs": [],
   "source": [
    "%matplotlib widget"
   ]
  },
  {
   "cell_type": "markdown",
   "metadata": {},
   "source": [
    "# This example shows how to read James Webb image\n",
    "\n",
    "This example (loosly based on the \"Read and plot an image from FITS file\" on astropy https://docs.astropy.org/en/stable/generated/examples/io/plot_fits-image.html ).\n",
    "\n",
    "Set up matplotlib and use a nicer set of plot parameters\n",
    "\n"
   ]
  },
  {
   "cell_type": "code",
   "execution_count": null,
   "metadata": {},
   "outputs": [],
   "source": [
    "import matplotlib.pyplot as plt\n",
    "from astropy.visualization import astropy_mpl_style\n",
    "import  astropy.visualization as asv \n",
    "from skimage.transform import resize # For resizing the images\n",
    "import numpy as np\n",
    "plt.style.use(astropy_mpl_style)"
   ]
  },
  {
   "cell_type": "markdown",
   "metadata": {},
   "source": [
    "Open the image"
   ]
  },
  {
   "cell_type": "code",
   "execution_count": null,
   "metadata": {},
   "outputs": [],
   "source": [
    "\n",
    "from astropy.io import fits\n",
    "\n",
    "# Image url\n",
    "imUrl = 'jwst/MAST_2025-01-07T0756/JWST/jw01170006001_02101_00001_guider1/jw01170006001_02101_00001_guider1_cal.fits'"
   ]
  },
  {
   "cell_type": "markdown",
   "metadata": {},
   "source": [
    "We now can have a look at what the file contains\n"
   ]
  },
  {
   "cell_type": "code",
   "execution_count": null,
   "metadata": {},
   "outputs": [],
   "source": [
    "file = fits.open(imUrl)"
   ]
  },
  {
   "cell_type": "code",
   "execution_count": null,
   "metadata": {},
   "outputs": [],
   "source": [
    "file.info()\n",
    "\n"
   ]
  },
  {
   "cell_type": "markdown",
   "metadata": {},
   "source": [
    "The main image is located in \"SCI\", which we select with ``ext=1`` when reading the file.\n",
    "\n",
    "Now we open the files and read in the image arrays. We also resize them so that they all\n",
    "are the same size."
   ]
  },
  {
   "cell_type": "code",
   "execution_count": null,
   "metadata": {},
   "outputs": [],
   "source": [
    "file[1].header"
   ]
  },
  {
   "cell_type": "code",
   "execution_count": null,
   "metadata": {},
   "outputs": [],
   "source": [
    "im = fits.getdata(imUrl, ext=1)"
   ]
  },
  {
   "cell_type": "markdown",
   "metadata": {},
   "source": [
    "The data is now stored as a 2D numpy array. Print the dimensions using the\n",
    "shape attribute:"
   ]
  },
  {
   "cell_type": "code",
   "execution_count": null,
   "metadata": {},
   "outputs": [],
   "source": [
    "print(im.shape,im.dtype)\n",
    "display(im)"
   ]
  },
  {
   "cell_type": "markdown",
   "metadata": {},
   "source": [
    "We can now have a look at a greyscale image of the selected band. \n",
    "Here one might need to tune some of the parameters."
   ]
  },
  {
   "cell_type": "code",
   "execution_count": null,
   "metadata": {},
   "outputs": [],
   "source": [
    "plt.figure()\n",
    "im[np.isnan(im)]=0 # Make nan pixels black\n",
    "norm = asv.simple_norm(im, stretch='asinh',asinh_a=0.1, min_percent=40 ,max_percent=99.7) # How we scale the image\n",
    "plt.imshow(im, norm=norm, cmap='gray') # Plotting the grayscale image\n",
    "plt.grid(False)\n",
    "plt.colorbar()"
   ]
  }
 ],
 "metadata": {
  "kernelspec": {
   "display_name": "Python 3 (ipykernel)",
   "language": "python",
   "name": "python3"
  },
  "language_info": {
   "codemirror_mode": {
    "name": "ipython",
    "version": 3
   },
   "file_extension": ".py",
   "mimetype": "text/x-python",
   "name": "python",
   "nbconvert_exporter": "python",
   "pygments_lexer": "ipython3"
  }
 },
 "nbformat": 4,
 "nbformat_minor": 4
}
