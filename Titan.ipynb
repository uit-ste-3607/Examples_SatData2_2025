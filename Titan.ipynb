{
 "cells": [
  {
   "cell_type": "code",
   "execution_count": null,
   "metadata": {},
   "outputs": [],
   "source": [
    "%matplotlib widget"
   ]
  },
  {
   "cell_type": "markdown",
   "metadata": {},
   "source": [
    "# This example shows how to read Cassini SAR images\n",
    "\n",
    "It uses BIDR data from the PDS imageging repository  https://pds-imaging.jpl.nasa.gov/volumes/radar.html\n",
    "Information about which datasets to choose can be found on in the Radar User's Guide on: \n",
    "https://pds-atmospheres.nmsu.edu/data_and_services/atmospheres_data/Cassini/inst-radar.html\n",
    "\n",
    "The data needs to be downloaded and unzipped. \n",
    "\n",
    "The library we are using the Planatary Data Reader: https://pdr.readthedocs.io/en/latest/"
   ]
  },
  {
   "cell_type": "code",
   "execution_count": null,
   "metadata": {},
   "outputs": [],
   "source": [
    "import matplotlib.pyplot as plt\n",
    "import pdr\n",
    "import numpy as np\n"
   ]
  },
  {
   "cell_type": "code",
   "execution_count": null,
   "metadata": {},
   "outputs": [],
   "source": [
    "# Image url\n",
    "im1 = \"BIDQH22N352_D261_T104S01_V03.IMG\""
   ]
  },
  {
   "cell_type": "markdown",
   "metadata": {},
   "source": [
    "We now open the file \n"
   ]
  },
  {
   "cell_type": "code",
   "execution_count": null,
   "metadata": {},
   "outputs": [],
   "source": [
    "file = pdr.open(im2)"
   ]
  },
  {
   "cell_type": "markdown",
   "id": "e14496f5",
   "metadata": {},
   "source": [
    "and have a look at what is inside "
   ]
  },
  {
   "cell_type": "code",
   "execution_count": null,
   "metadata": {},
   "outputs": [],
   "source": [
    "print(file)"
   ]
  },
  {
   "cell_type": "code",
   "execution_count": null,
   "metadata": {},
   "outputs": [],
   "source": [
    "image = file['IMAGE']"
   ]
  },
  {
   "cell_type": "markdown",
   "id": "eb22184d",
   "metadata": {},
   "source": [
    "We can now plot the image,though this code will need work to highlight what you want. "
   ]
  },
  {
   "cell_type": "code",
   "execution_count": null,
   "metadata": {},
   "outputs": [],
   "source": [
    "plt.figure(1)\n",
    "plt.clf()\n",
    "plt.imshow(np.transpose(image),cmap=\"gray\")\n",
    "plt.colorbar()\n",
    "plt.show()"
   ]
  },
  {
   "cell_type": "markdown",
   "metadata": {},
   "source": [
    "If you want to explor the LBDR files which contain the raw radar data, the data cab be read by "
   ]
  },
  {
   "cell_type": "code",
   "execution_count": null,
   "metadata": {},
   "outputs": [],
   "source": [
    "# data = file[\"LBDR_TABLE\"]\n",
    "# print(data)"
   ]
  }
 ],
 "metadata": {
  "kernelspec": {
   "display_name": "Python 3 (ipykernel)",
   "language": "python",
   "name": "python3"
  },
  "language_info": {
   "codemirror_mode": {
    "name": "ipython",
    "version": 3
   },
   "file_extension": ".py",
   "mimetype": "text/x-python",
   "name": "python",
   "nbconvert_exporter": "python",
   "pygments_lexer": "ipython3"
  }
 },
 "nbformat": 4,
 "nbformat_minor": 4
}
